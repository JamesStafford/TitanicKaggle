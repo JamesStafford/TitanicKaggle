{
 "cells": [
  {
   "metadata": {},
   "cell_type": "markdown",
   "source": [
    "# Titanic Survival Analysis: Ticket Class to Survival Exploration\n",
    "\n",
    "## Project Overview\n",
    "\n",
    "This notebook explores the Kaggle Titanic dataset to analyze survival patterns among passengers. The primary goal is to identify key features that influenced survival rates and build insights for predictive modeling.\n",
    "\n",
    "**Dataset**: Titanic passenger data from Kaggle competition\n",
    "\n",
    "**Specific Notebook Objective**: Exploratory Data Analysis (EDA) focusing on ticket-class-based survival patterns\n",
    "\n",
    "---\n",
    "\n",
    "## 1. Data Loading and Initial Exploration\n",
    "\n",
    "First, let's load the training dataset and examine its structure."
   ],
   "id": "485c52348f99c18a"
  },
  {
   "metadata": {
    "collapsed": true,
    "ExecuteTime": {
     "end_time": "2025-10-19T20:37:05.367066Z",
     "start_time": "2025-10-19T20:37:05.357033Z"
    }
   },
   "cell_type": "code",
   "source": [
    "from datetime import date, time, datetime, timedelta\n",
    "from typing import Any\n",
    "\n",
    "import pandas as pd\n",
    "from matplotlib.axes import Axes\n",
    "from numpy import dtype, generic\n",
    "from pandas import DataFrame, Series, Period, Interval, CategoricalDtype\n",
    "import matplotlib.pyplot as plt\n",
    "from pandas._libs.tslibs import BaseOffset\n",
    "from pandas.core.dtypes.base import ExtensionDtype\n",
    "\n",
    "from src.constants import PCLASS_HEADER, SURVIVED_HEADER\n",
    "\n",
    "\n",
    "titanic_training_df: DataFrame = pd.read_csv(\"../data/train.csv\")\n",
    "titanic_training_df.head()"
   ],
   "id": "7a041ed9ff7ad601",
   "outputs": [
    {
     "data": {
      "text/plain": [
       "   PassengerId  Survived  Pclass  \\\n",
       "0            1         0       3   \n",
       "1            2         1       1   \n",
       "2            3         1       3   \n",
       "3            4         1       1   \n",
       "4            5         0       3   \n",
       "\n",
       "                                                Name     Sex   Age  SibSp  \\\n",
       "0                            Braund, Mr. Owen Harris    male  22.0      1   \n",
       "1  Cumings, Mrs. John Bradley (Florence Briggs Th...  female  38.0      1   \n",
       "2                             Heikkinen, Miss. Laina  female  26.0      0   \n",
       "3       Futrelle, Mrs. Jacques Heath (Lily May Peel)  female  35.0      1   \n",
       "4                           Allen, Mr. William Henry    male  35.0      0   \n",
       "\n",
       "   Parch            Ticket     Fare Cabin Embarked  \n",
       "0      0         A/5 21171   7.2500   NaN        S  \n",
       "1      0          PC 17599  71.2833   C85        C  \n",
       "2      0  STON/O2. 3101282   7.9250   NaN        S  \n",
       "3      0            113803  53.1000  C123        S  \n",
       "4      0            373450   8.0500   NaN        S  "
      ],
      "text/html": [
       "<div>\n",
       "<style scoped>\n",
       "    .dataframe tbody tr th:only-of-type {\n",
       "        vertical-align: middle;\n",
       "    }\n",
       "\n",
       "    .dataframe tbody tr th {\n",
       "        vertical-align: top;\n",
       "    }\n",
       "\n",
       "    .dataframe thead th {\n",
       "        text-align: right;\n",
       "    }\n",
       "</style>\n",
       "<table border=\"1\" class=\"dataframe\">\n",
       "  <thead>\n",
       "    <tr style=\"text-align: right;\">\n",
       "      <th></th>\n",
       "      <th>PassengerId</th>\n",
       "      <th>Survived</th>\n",
       "      <th>Pclass</th>\n",
       "      <th>Name</th>\n",
       "      <th>Sex</th>\n",
       "      <th>Age</th>\n",
       "      <th>SibSp</th>\n",
       "      <th>Parch</th>\n",
       "      <th>Ticket</th>\n",
       "      <th>Fare</th>\n",
       "      <th>Cabin</th>\n",
       "      <th>Embarked</th>\n",
       "    </tr>\n",
       "  </thead>\n",
       "  <tbody>\n",
       "    <tr>\n",
       "      <th>0</th>\n",
       "      <td>1</td>\n",
       "      <td>0</td>\n",
       "      <td>3</td>\n",
       "      <td>Braund, Mr. Owen Harris</td>\n",
       "      <td>male</td>\n",
       "      <td>22.0</td>\n",
       "      <td>1</td>\n",
       "      <td>0</td>\n",
       "      <td>A/5 21171</td>\n",
       "      <td>7.2500</td>\n",
       "      <td>NaN</td>\n",
       "      <td>S</td>\n",
       "    </tr>\n",
       "    <tr>\n",
       "      <th>1</th>\n",
       "      <td>2</td>\n",
       "      <td>1</td>\n",
       "      <td>1</td>\n",
       "      <td>Cumings, Mrs. John Bradley (Florence Briggs Th...</td>\n",
       "      <td>female</td>\n",
       "      <td>38.0</td>\n",
       "      <td>1</td>\n",
       "      <td>0</td>\n",
       "      <td>PC 17599</td>\n",
       "      <td>71.2833</td>\n",
       "      <td>C85</td>\n",
       "      <td>C</td>\n",
       "    </tr>\n",
       "    <tr>\n",
       "      <th>2</th>\n",
       "      <td>3</td>\n",
       "      <td>1</td>\n",
       "      <td>3</td>\n",
       "      <td>Heikkinen, Miss. Laina</td>\n",
       "      <td>female</td>\n",
       "      <td>26.0</td>\n",
       "      <td>0</td>\n",
       "      <td>0</td>\n",
       "      <td>STON/O2. 3101282</td>\n",
       "      <td>7.9250</td>\n",
       "      <td>NaN</td>\n",
       "      <td>S</td>\n",
       "    </tr>\n",
       "    <tr>\n",
       "      <th>3</th>\n",
       "      <td>4</td>\n",
       "      <td>1</td>\n",
       "      <td>1</td>\n",
       "      <td>Futrelle, Mrs. Jacques Heath (Lily May Peel)</td>\n",
       "      <td>female</td>\n",
       "      <td>35.0</td>\n",
       "      <td>1</td>\n",
       "      <td>0</td>\n",
       "      <td>113803</td>\n",
       "      <td>53.1000</td>\n",
       "      <td>C123</td>\n",
       "      <td>S</td>\n",
       "    </tr>\n",
       "    <tr>\n",
       "      <th>4</th>\n",
       "      <td>5</td>\n",
       "      <td>0</td>\n",
       "      <td>3</td>\n",
       "      <td>Allen, Mr. William Henry</td>\n",
       "      <td>male</td>\n",
       "      <td>35.0</td>\n",
       "      <td>0</td>\n",
       "      <td>0</td>\n",
       "      <td>373450</td>\n",
       "      <td>8.0500</td>\n",
       "      <td>NaN</td>\n",
       "      <td>S</td>\n",
       "    </tr>\n",
       "  </tbody>\n",
       "</table>\n",
       "</div>"
      ]
     },
     "execution_count": 20,
     "metadata": {},
     "output_type": "execute_result"
    }
   ],
   "execution_count": 20
  },
  {
   "metadata": {},
   "cell_type": "markdown",
   "source": [
    "### Initial Observations\n",
    "\n",
    "The dataset contains 891 passengers with the following key features:\n",
    "- **Survived**: Target variable (0 = No, 1 = Yes)\n",
    "- **Pclass**: Ticket class (1 = 1st, 2 = 2nd, 3 = 3rd)\n",
    "\n",
    "---"
   ],
   "id": "b9c8464dc38fab80"
  },
  {
   "metadata": {},
   "cell_type": "markdown",
   "source": [
    "## 2. Visualization: Survival Rate by Ticket Class\n",
    "Now let's visualize the survival rates across ticket class to identify patterns.\n"
   ],
   "id": "ce900ce6c764447f"
  },
  {
   "metadata": {
    "ExecuteTime": {
     "end_time": "2025-10-19T20:37:05.442732Z",
     "start_time": "2025-10-19T20:37:05.399597Z"
    }
   },
   "cell_type": "code",
   "source": [
    "pclass_survival_df: DataFrame = titanic_training_df[[SURVIVED_HEADER, PCLASS_HEADER]].copy()\n",
    "\n",
    "survival_by_pclass_group = pclass_survival_df.groupby(PCLASS_HEADER, observed=True)[SURVIVED_HEADER].mean()\n",
    "survival_by_pclass_bar_chart: Axes = survival_by_pclass_group.plot(kind=\"bar\")\n",
    "\n",
    "survival_by_pclass_bar_chart.set_xlabel(\"Passenger Class\")\n",
    "\n",
    "survival_by_pclass_bar_chart.set_ylabel(\"Survival Rate\")\n",
    "survival_by_pclass_bar_chart.set_ybound(0, 1)\n",
    "\n",
    "survival_by_pclass_bar_chart.set_title(\"Survival Rate by Passenger Class\")\n",
    "\n",
    "for container in survival_by_pclass_bar_chart.containers:\n",
    "    survival_by_pclass_bar_chart.bar_label(container, fmt='%.2f', padding=3)  # pyright: ignore [reportArgumentType]\n",
    "\n",
    "plt.show()"
   ],
   "id": "8a1e38e38b89d827",
   "outputs": [
    {
     "data": {
      "text/plain": [
       "<Figure size 640x480 with 1 Axes>"
      ],
      "image/png": "[encoded data removed]"
     },
     "metadata": {},
     "output_type": "display_data",
     "jetTransient": {
      "display_id": null
     }
    }
   ],
   "execution_count": 21
  },
  {
   "metadata": {},
   "cell_type": "markdown",
   "source": [
    "### Key Insight: Higher Ticket Class Had Higher Survival Rate\n",
    "\n",
    "Passengers with first class tickets have higher chance of survival than passengers with lower class of tickets.\n",
    "\n",
    "---\n",
    "\n",
    "## 3. Alternative Visualizations\n",
    "\n",
    "Let's explore different methods to visualize the relationship between ticket class and survival.\n",
    "\n",
    "### Survival Rate Bar Chart\n",
    "\n",
    "This chart shows the porpotion of survivors within each ticket class."
   ],
   "id": "7d97fe20a958b181"
  },
  {
   "metadata": {
    "ExecuteTime": {
     "end_time": "2025-10-19T20:38:02.297910Z",
     "start_time": "2025-10-19T20:38:02.235745Z"
    }
   },
   "cell_type": "code",
   "source": [
    "survival_rate_bar_chart: Axes = pclass_survival_df.groupby([PCLASS_HEADER, SURVIVED_HEADER], observed=True).size().unstack().plot(kind='bar', stacked=True)\n",
    "\n",
    "survival_rate_bar_chart.set_xlabel(\"Passenger Class\")\n",
    "\n",
    "survival_rate_bar_chart.set_ylabel(\"Passenger Count\")\n",
    "survival_rate_bar_chart.set_ybound(0, 850)\n",
    "\n",
    "survival_rate_bar_chart.set_title(\"Survival Rate and Passenger Count by Passenger Class\")"
   ],
   "id": "ad142bd7fdaada38",
   "outputs": [
    {
     "data": {
      "text/plain": [
       "Text(0.5, 1.0, 'Survival Rate and Passenger Count by Passenger Class')"
      ]
     },
     "execution_count": 24,
     "metadata": {},
     "output_type": "execute_result"
    },
    {
     "data": {
      "text/plain": [
       "<Figure size 640x480 with 1 Axes>"
      ],
      "image/png": "[encoded data removed]"
     },
     "metadata": {},
     "output_type": "display_data",
     "jetTransient": {
      "display_id": null
     }
    }
   ],
   "execution_count": 24
  },
  {
   "metadata": {},
   "cell_type": "markdown",
   "source": [
    "---\n",
    "\n",
    "## 5. Summary and Next Steps\n",
    "\n",
    "### Key Findings\n",
    "\n",
    "1. **Ticket Class is an important factor in survival**: 1st class passengers survived around 66% percent of the time.\n",
    "2. **Most passengers wer third class**: The third class had the most passengers, but lowest survival rates of around 25%.\n",
    "\n",
    "### Recommended Next Steps\n",
    "\n",
    "1. Examine interactions between survival and sex."
   ],
   "id": "ff45f91814e9b2d8"
  }
 ],
 "metadata": {
  "kernelspec": {
   "display_name": "Python 3",
   "language": "python",
   "name": "python3"
  },
  "language_info": {
   "codemirror_mode": {
    "name": "ipython",
    "version": 2
   },
   "file_extension": ".py",
   "mimetype": "text/x-python",
   "name": "python",
   "nbconvert_exporter": "python",
   "pygments_lexer": "ipython2",
   "version": "2.7.6"
  }
 },
 "nbformat": 4,
 "nbformat_minor": 5
}
