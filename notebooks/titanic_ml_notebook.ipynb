{
 "cells": [
  {
   "cell_type": "code",
   "id": "initial_id",
   "metadata": {
    "collapsed": true
   },
   "source": [
    "import pandas as pd\n",
    "from pandas import DataFrame\n",
    "from sklearn.ensemble import RandomForestClassifier\n",
    "from sklearn import tree\n",
    "from sklearn.metrics import accuracy_score\n",
    "\n",
    "from src.constants import SEX_HEADER, SURVIVED_HEADER, SEX_ENCODED, AGE_HEADER, PCLASS_HEADER\n",
    "\n",
    "\n",
    "titanic_training_df: DataFrame = pd.read_csv(\"../data/train.csv\")\n",
    "titanic_training_df.head()"
   ],
   "outputs": [],
   "execution_count": null
  },
  {
   "metadata": {},
   "cell_type": "code",
   "source": [
    "titanic_features_df: DataFrame = titanic_training_df[[SURVIVED_HEADER, SEX_HEADER, AGE_HEADER, PCLASS_HEADER]].copy()\n",
    "titanic_features_df[SEX_ENCODED] = titanic_features_df[SEX_HEADER].map({'male': 0, 'female': 1})\n",
    "titanic_features_df[AGE_HEADER] = titanic_features_df[AGE_HEADER].fillna(titanic_features_df[AGE_HEADER].median())\n",
    "titanic_features_df.head()"
   ],
   "id": "9ae7e51c78d6f9b0",
   "outputs": [],
   "execution_count": null
  },
  {
   "metadata": {},
   "cell_type": "code",
   "source": [
    "decision_tree_overfitted = tree.DecisionTreeClassifier()\n",
    "decision_tree_overfitted = decision_tree_overfitted.fit(\n",
    "    titanic_features_df[[SEX_ENCODED, AGE_HEADER, PCLASS_HEADER]],\n",
    "    titanic_features_df[SURVIVED_HEADER]\n",
    ")"
   ],
   "id": "2c3da2f63ca03d9e",
   "outputs": [],
   "execution_count": null
  },
  {
   "metadata": {},
   "cell_type": "code",
   "source": "tree.plot_tree(decision_tree_overfitted)",
   "id": "f2fcb549cadaf5f4",
   "outputs": [],
   "execution_count": null
  },
  {
   "metadata": {},
   "cell_type": "code",
   "source": [
    "overfitted_train_predictions = decision_tree_overfitted.predict(titanic_features_df[[SEX_ENCODED, AGE_HEADER, PCLASS_HEADER]])\n",
    "overfitted_train_accuracy = accuracy_score(titanic_features_df[SURVIVED_HEADER], overfitted_train_predictions)\n",
    "\n",
    "print(f\"Overfitted Training accuracy: {overfitted_train_accuracy}\")"
   ],
   "id": "23aee5ae63bc9062",
   "outputs": [],
   "execution_count": null
  },
  {
   "metadata": {},
   "cell_type": "code",
   "source": [
    "decision_tree_fitted = tree.DecisionTreeClassifier(max_depth=5, min_samples_split=20, min_samples_leaf=10)\n",
    "decision_tree_fitted = decision_tree_fitted.fit(\n",
    "    titanic_features_df[[SEX_ENCODED, AGE_HEADER, PCLASS_HEADER]],\n",
    "    titanic_features_df[SURVIVED_HEADER]\n",
    ")"
   ],
   "id": "80d7f081a2858b67",
   "outputs": [],
   "execution_count": null
  },
  {
   "metadata": {},
   "cell_type": "code",
   "source": "tree.plot_tree(decision_tree_fitted)",
   "id": "92809cd1f045b7f7",
   "outputs": [],
   "execution_count": null
  },
  {
   "metadata": {},
   "cell_type": "code",
   "source": [
    "fitted_train_predictions = decision_tree_fitted.predict(titanic_features_df[[SEX_ENCODED, AGE_HEADER, PCLASS_HEADER]])\n",
    "fitted_train_accuracy = accuracy_score(titanic_features_df[SURVIVED_HEADER], fitted_train_predictions)\n",
    "\n",
    "print(f\"Fitted Training accuracy: {fitted_train_accuracy}\")"
   ],
   "id": "fd420acfdf0cec82",
   "outputs": [],
   "execution_count": null
  },
  {
   "metadata": {},
   "cell_type": "code",
   "source": [
    "randomForestClassifier = RandomForestClassifier(n_estimators=100, max_depth=5, min_samples_split=20, min_samples_leaf=10)\n",
    "randomForestClassifier.fit(titanic_features_df[[SEX_ENCODED, AGE_HEADER, PCLASS_HEADER]], titanic_features_df[SURVIVED_HEADER])"
   ],
   "id": "15bdc3b1bd0f08ce",
   "outputs": [],
   "execution_count": null
  },
  {
   "metadata": {},
   "cell_type": "code",
   "source": "tree.plot_tree(randomForestClassifier.estimators_[0])",
   "id": "db915b0ad3502ab2",
   "outputs": [],
   "execution_count": null
  },
  {
   "metadata": {},
   "cell_type": "code",
   "source": [
    "forest_train_predictions = randomForestClassifier.predict(titanic_features_df[[SEX_ENCODED, AGE_HEADER, PCLASS_HEADER]])\n",
    "forest_train_accuracy = accuracy_score(titanic_features_df[SURVIVED_HEADER], forest_train_predictions)\n",
    "\n",
    "print(f\"Forest Training accuracy: {forest_train_accuracy}\")"
   ],
   "id": "11ea46150d65b0c3",
   "outputs": [],
   "execution_count": null
  },
  {
   "metadata": {},
   "cell_type": "code",
   "source": [
    "titanic_test_df: DataFrame = pd.read_csv(\"../data/test.csv\")\n",
    "titanic_test_df[SEX_ENCODED] = titanic_test_df[SEX_HEADER].map({'male': 0, 'female': 1})\n",
    "titanic_test_df[AGE_HEADER] = titanic_test_df[AGE_HEADER].fillna(titanic_features_df[AGE_HEADER].median())\n",
    "titanic_test_df.head()"
   ],
   "id": "e112c14104b5ac1",
   "outputs": [],
   "execution_count": null
  },
  {
   "metadata": {},
   "cell_type": "code",
   "source": "random_forest_survival_prediction = randomForestClassifier.predict(titanic_test_df[[SEX_ENCODED, AGE_HEADER, PCLASS_HEADER]])",
   "id": "4899b07760ca79d",
   "outputs": [],
   "execution_count": null
  },
  {
   "metadata": {},
   "cell_type": "code",
   "source": [
    "random_forest_submission_df = pd.DataFrame({\n",
    "    'PassengerId': titanic_test_df['PassengerId'],\n",
    "    'Survived': random_forest_survival_prediction\n",
    "})\n",
    "\n",
    "random_forest_submission_df.to_csv('../data/random_forest_submission.csv', index=False)\n",
    "\n",
    "random_forest_submission_df.head()"
   ],
   "id": "40ce1384418abfa5",
   "outputs": [],
   "execution_count": null
  },
  {
   "metadata": {},
   "cell_type": "code",
   "source": "decision_tree_fitted_survival_prediction = decision_tree_fitted.predict(titanic_test_df[[SEX_ENCODED, AGE_HEADER, PCLASS_HEADER]])\n",
   "id": "ba3a73b8157243ea",
   "outputs": [],
   "execution_count": null
  },
  {
   "metadata": {},
   "cell_type": "code",
   "source": [
    "decision_tree_fitted_submission_df = pd.DataFrame({\n",
    "    'PassengerId': titanic_test_df['PassengerId'],\n",
    "    'Survived': decision_tree_fitted_survival_prediction\n",
    "})\n",
    "\n",
    "decision_tree_fitted_submission_df.to_csv('../data/decision_tree_fitted_submission.csv', index=False)\n",
    "\n",
    "decision_tree_fitted_submission_df.head()"
   ],
   "id": "b4a094dab8b575f2",
   "outputs": [],
   "execution_count": null
  }
 ],
 "metadata": {
  "kernelspec": {
   "display_name": "Python 3",
   "language": "python",
   "name": "python3"
  },
  "language_info": {
   "codemirror_mode": {
    "name": "ipython",
    "version": 2
   },
   "file_extension": ".py",
   "mimetype": "text/x-python",
   "name": "python",
   "nbconvert_exporter": "python",
   "pygments_lexer": "ipython2",
   "version": "2.7.6"
  }
 },
 "nbformat": 4,
 "nbformat_minor": 5
}
