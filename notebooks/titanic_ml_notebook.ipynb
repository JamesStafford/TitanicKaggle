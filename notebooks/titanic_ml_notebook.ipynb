{
 "cells": [
  {
   "cell_type": "code",
   "id": "initial_id",
   "metadata": {
    "collapsed": true
   },
   "source": [
    "import pandas as pd\n",
    "from pandas import DataFrame\n",
    "from sklearn.ensemble import RandomForestClassifier\n",
    "from sklearn import tree\n",
    "from sklearn.metrics import accuracy_score\n",
    "\n",
    "from src.constants import SEX_HEADER, SURVIVED_HEADER, SEX_ENCODED, AGE_HEADER, PCLASS_HEADER\n",
    "from src.prediction_model_utils.data_massager import message_data\n",
    "from src.prediction_model_utils.data_retriever import get_x, get_y\n",
    "\n",
    "titanic_training_df: DataFrame = pd.read_csv(\"../data/train.csv\")\n",
    "titanic_training_df.head()"
   ],
   "outputs": [],
   "execution_count": null
  },
  {
   "metadata": {},
   "cell_type": "code",
   "source": [
    "titanic_features_df: DataFrame = message_data(titanic_training_df)\n",
    "titanic_features_df.head()"
   ],
   "id": "9ae7e51c78d6f9b0",
   "outputs": [],
   "execution_count": null
  },
  {
   "metadata": {},
   "cell_type": "code",
   "source": [
    "training_x = get_x(titanic_training_df)\n",
    "training_y = get_y(titanic_training_df)\n",
    "\n",
    "decision_tree_overfitted = tree.DecisionTreeClassifier()\n",
    "decision_tree_overfitted = decision_tree_overfitted.fit(\n",
    "    training_x,\n",
    "    training_y\n",
    ")"
   ],
   "id": "2c3da2f63ca03d9e",
   "outputs": [],
   "execution_count": null
  },
  {
   "metadata": {},
   "cell_type": "code",
   "source": "tree.plot_tree(decision_tree_overfitted)",
   "id": "f2fcb549cadaf5f4",
   "outputs": [],
   "execution_count": null
  },
  {
   "metadata": {},
   "cell_type": "code",
   "source": [
    "overfitted_train_predictions = decision_tree_overfitted.predict(training_x)\n",
    "overfitted_train_accuracy = accuracy_score(training_y, overfitted_train_predictions)\n",
    "\n",
    "print(f\"Overfitted Training accuracy: {overfitted_train_accuracy}\")"
   ],
   "id": "23aee5ae63bc9062",
   "outputs": [],
   "execution_count": null
  },
  {
   "metadata": {},
   "cell_type": "code",
   "source": [
    "decision_tree_fitted = tree.DecisionTreeClassifier(max_depth=5, min_samples_split=20, min_samples_leaf=10)\n",
    "decision_tree_fitted = decision_tree_fitted.fit(\n",
    "    training_x,\n",
    "    training_y\n",
    ")"
   ],
   "id": "80d7f081a2858b67",
   "outputs": [],
   "execution_count": null
  },
  {
   "metadata": {},
   "cell_type": "code",
   "source": "tree.plot_tree(decision_tree_fitted)",
   "id": "92809cd1f045b7f7",
   "outputs": [],
   "execution_count": null
  },
  {
   "metadata": {},
   "cell_type": "code",
   "source": [
    "fitted_train_predictions = decision_tree_fitted.predict(training_x)\n",
    "fitted_train_accuracy = accuracy_score(training_y, fitted_train_predictions)\n",
    "\n",
    "print(f\"Fitted Training accuracy: {fitted_train_accuracy}\")"
   ],
   "id": "fd420acfdf0cec82",
   "outputs": [],
   "execution_count": null
  },
  {
   "metadata": {},
   "cell_type": "code",
   "source": [
    "randomForestClassifier = RandomForestClassifier(n_estimators=100, max_depth=5, min_samples_split=20, min_samples_leaf=10)\n",
    "randomForestClassifier.fit(training_x, training_y)"
   ],
   "id": "15bdc3b1bd0f08ce",
   "outputs": [],
   "execution_count": null
  },
  {
   "metadata": {},
   "cell_type": "code",
   "source": "tree.plot_tree(randomForestClassifier.estimators_[0])",
   "id": "db915b0ad3502ab2",
   "outputs": [],
   "execution_count": null
  },
  {
   "metadata": {},
   "cell_type": "code",
   "source": [
    "forest_train_predictions = randomForestClassifier.predict(training_x)\n",
    "forest_train_accuracy = accuracy_score(training_y, forest_train_predictions)\n",
    "\n",
    "print(f\"Forest Training accuracy: {forest_train_accuracy}\")"
   ],
   "id": "11ea46150d65b0c3",
   "outputs": [],
   "execution_count": null
  },
  {
   "metadata": {},
   "cell_type": "code",
   "source": [
    "titanic_test_df: DataFrame = pd.read_csv(\"../data/test.csv\")\n",
    "titanic_test_df = message_data(titanic_test_df)\n",
    "titanic_test_df.head()"
   ],
   "id": "e112c14104b5ac1",
   "outputs": [],
   "execution_count": null
  },
  {
   "metadata": {},
   "cell_type": "code",
   "source": [
    "test_x = get_x(titanic_test_df)\n",
    "\n",
    "random_forest_survival_prediction = randomForestClassifier.predict(test_x)"
   ],
   "id": "4899b07760ca79d",
   "outputs": [],
   "execution_count": null
  },
  {
   "metadata": {},
   "cell_type": "code",
   "source": [
    "random_forest_submission_df = pd.DataFrame({\n",
    "    'PassengerId': titanic_test_df['PassengerId'],\n",
    "    'Survived': random_forest_survival_prediction\n",
    "})\n",
    "\n",
    "random_forest_submission_df.to_csv('../data/random_forest_submission.csv', index=False)\n",
    "\n",
    "random_forest_submission_df.head()"
   ],
   "id": "40ce1384418abfa5",
   "outputs": [],
   "execution_count": null
  },
  {
   "metadata": {},
   "cell_type": "code",
   "source": "decision_tree_fitted_survival_prediction = decision_tree_fitted.predict(test_x)\n",
   "id": "ba3a73b8157243ea",
   "outputs": [],
   "execution_count": null
  },
  {
   "metadata": {},
   "cell_type": "code",
   "source": [
    "decision_tree_fitted_submission_df = pd.DataFrame({\n",
    "    'PassengerId': titanic_test_df['PassengerId'],\n",
    "    'Survived': decision_tree_fitted_survival_prediction\n",
    "})\n",
    "\n",
    "decision_tree_fitted_submission_df.to_csv('../data/decision_tree_fitted_submission.csv', index=False)\n",
    "\n",
    "decision_tree_fitted_submission_df.head()"
   ],
   "id": "b4a094dab8b575f2",
   "outputs": [],
   "execution_count": null
  }
 ],
 "metadata": {
  "kernelspec": {
   "display_name": "Python 3",
   "language": "python",
   "name": "python3"
  },
  "language_info": {
   "codemirror_mode": {
    "name": "ipython",
    "version": 2
   },
   "file_extension": ".py",
   "mimetype": "text/x-python",
   "name": "python",
   "nbconvert_exporter": "python",
   "pygments_lexer": "ipython2",
   "version": "2.7.6"
  }
 },
 "nbformat": 4,
 "nbformat_minor": 5
}
