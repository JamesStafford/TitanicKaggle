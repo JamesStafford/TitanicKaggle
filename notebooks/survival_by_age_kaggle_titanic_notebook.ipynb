{
 "cells": [
  {
   "metadata": {},
   "cell_type": "markdown",
   "source": [
    "# Titanic Survival Analysis: Age to Survival Exploration\n",
    "\n",
    "## Project Overview\n",
    "\n",
    "This notebook explores the Kaggle Titanic dataset to analyze survival patterns among passengers. The primary goal is to identify key features that influenced survival rates and build insights for predictive modeling.\n",
    "\n",
    "**Dataset**: Titanic passenger data from Kaggle competition\n",
    "\n",
    "**Specific Notebook Objective**: Exploratory Data Analysis (EDA) focusing on age-based survival patterns\n",
    "\n",
    "---\n",
    "\n",
    "## 1. Data Loading and Initial Exploration\n",
    "\n",
    "First, let's load the training dataset and examine its structure."
   ],
   "id": "89d270e2805a59f8"
  },
  {
   "cell_type": "code",
   "id": "initial_id",
   "metadata": {
    "collapsed": true,
    "ExecuteTime": {
     "end_time": "2025-10-20T02:10:31.959098Z",
     "start_time": "2025-10-20T02:10:31.940887Z"
    }
   },
   "source": [
    "import pandas as pd\n",
    "from pandas import DataFrame\n",
    "import matplotlib.pyplot as plt\n",
    "\n",
    "titanic_training_df: DataFrame = pd.read_csv(\"../data/train.csv\")\n",
    "titanic_training_df.head()"
   ],
   "outputs": [
    {
     "data": {
      "text/plain": [
       "   PassengerId  Survived  Pclass  \\\n",
       "0            1         0       3   \n",
       "1            2         1       1   \n",
       "2            3         1       3   \n",
       "3            4         1       1   \n",
       "4            5         0       3   \n",
       "\n",
       "                                                Name     Sex   Age  SibSp  \\\n",
       "0                            Braund, Mr. Owen Harris    male  22.0      1   \n",
       "1  Cumings, Mrs. John Bradley (Florence Briggs Th...  female  38.0      1   \n",
       "2                             Heikkinen, Miss. Laina  female  26.0      0   \n",
       "3       Futrelle, Mrs. Jacques Heath (Lily May Peel)  female  35.0      1   \n",
       "4                           Allen, Mr. William Henry    male  35.0      0   \n",
       "\n",
       "   Parch            Ticket     Fare Cabin Embarked  \n",
       "0      0         A/5 21171   7.2500   NaN        S  \n",
       "1      0          PC 17599  71.2833   C85        C  \n",
       "2      0  STON/O2. 3101282   7.9250   NaN        S  \n",
       "3      0            113803  53.1000  C123        S  \n",
       "4      0            373450   8.0500   NaN        S  "
      ],
      "text/html": [
       "<div>\n",
       "<style scoped>\n",
       "    .dataframe tbody tr th:only-of-type {\n",
       "        vertical-align: middle;\n",
       "    }\n",
       "\n",
       "    .dataframe tbody tr th {\n",
       "        vertical-align: top;\n",
       "    }\n",
       "\n",
       "    .dataframe thead th {\n",
       "        text-align: right;\n",
       "    }\n",
       "</style>\n",
       "<table border=\"1\" class=\"dataframe\">\n",
       "  <thead>\n",
       "    <tr style=\"text-align: right;\">\n",
       "      <th></th>\n",
       "      <th>PassengerId</th>\n",
       "      <th>Survived</th>\n",
       "      <th>Pclass</th>\n",
       "      <th>Name</th>\n",
       "      <th>Sex</th>\n",
       "      <th>Age</th>\n",
       "      <th>SibSp</th>\n",
       "      <th>Parch</th>\n",
       "      <th>Ticket</th>\n",
       "      <th>Fare</th>\n",
       "      <th>Cabin</th>\n",
       "      <th>Embarked</th>\n",
       "    </tr>\n",
       "  </thead>\n",
       "  <tbody>\n",
       "    <tr>\n",
       "      <th>0</th>\n",
       "      <td>1</td>\n",
       "      <td>0</td>\n",
       "      <td>3</td>\n",
       "      <td>Braund, Mr. Owen Harris</td>\n",
       "      <td>male</td>\n",
       "      <td>22.0</td>\n",
       "      <td>1</td>\n",
       "      <td>0</td>\n",
       "      <td>A/5 21171</td>\n",
       "      <td>7.2500</td>\n",
       "      <td>NaN</td>\n",
       "      <td>S</td>\n",
       "    </tr>\n",
       "    <tr>\n",
       "      <th>1</th>\n",
       "      <td>2</td>\n",
       "      <td>1</td>\n",
       "      <td>1</td>\n",
       "      <td>Cumings, Mrs. John Bradley (Florence Briggs Th...</td>\n",
       "      <td>female</td>\n",
       "      <td>38.0</td>\n",
       "      <td>1</td>\n",
       "      <td>0</td>\n",
       "      <td>PC 17599</td>\n",
       "      <td>71.2833</td>\n",
       "      <td>C85</td>\n",
       "      <td>C</td>\n",
       "    </tr>\n",
       "    <tr>\n",
       "      <th>2</th>\n",
       "      <td>3</td>\n",
       "      <td>1</td>\n",
       "      <td>3</td>\n",
       "      <td>Heikkinen, Miss. Laina</td>\n",
       "      <td>female</td>\n",
       "      <td>26.0</td>\n",
       "      <td>0</td>\n",
       "      <td>0</td>\n",
       "      <td>STON/O2. 3101282</td>\n",
       "      <td>7.9250</td>\n",
       "      <td>NaN</td>\n",
       "      <td>S</td>\n",
       "    </tr>\n",
       "    <tr>\n",
       "      <th>3</th>\n",
       "      <td>4</td>\n",
       "      <td>1</td>\n",
       "      <td>1</td>\n",
       "      <td>Futrelle, Mrs. Jacques Heath (Lily May Peel)</td>\n",
       "      <td>female</td>\n",
       "      <td>35.0</td>\n",
       "      <td>1</td>\n",
       "      <td>0</td>\n",
       "      <td>113803</td>\n",
       "      <td>53.1000</td>\n",
       "      <td>C123</td>\n",
       "      <td>S</td>\n",
       "    </tr>\n",
       "    <tr>\n",
       "      <th>4</th>\n",
       "      <td>5</td>\n",
       "      <td>0</td>\n",
       "      <td>3</td>\n",
       "      <td>Allen, Mr. William Henry</td>\n",
       "      <td>male</td>\n",
       "      <td>35.0</td>\n",
       "      <td>0</td>\n",
       "      <td>0</td>\n",
       "      <td>373450</td>\n",
       "      <td>8.0500</td>\n",
       "      <td>NaN</td>\n",
       "      <td>S</td>\n",
       "    </tr>\n",
       "  </tbody>\n",
       "</table>\n",
       "</div>"
      ]
     },
     "execution_count": 2,
     "metadata": {},
     "output_type": "execute_result"
    }
   ],
   "execution_count": 2
  },
  {
   "cell_type": "markdown",
   "id": "whtekzrn9y",
   "source": [
    "### Initial Observations\n",
    "\n",
    "The dataset contains 891 passengers with the following key features:\n",
    "- **Survived**: Target variable (0 = No, 1 = Yes)\n",
    "- **Pclass**: Ticket class (1 = 1st, 2 = 2nd, 3 = 3rd)\n",
    "- **Sex**: Gender of passenger\n",
    "- **Age**: Age in years (contains missing values)\n",
    "- **SibSp**: Number of siblings/spouses aboard\n",
    "- **Parch**: Number of parents/children aboard\n",
    "- **Fare**: Passenger fare\n",
    "- **Embarked**: Port of embarkation (C = Cherbourg, Q = Queenstown, S = Southampton)\n",
    "\n",
    "**Note**: The Age column has missing values that will need to be handled in future modeling steps.\n",
    "\n",
    "---"
   ],
   "metadata": {}
  },
  {
   "metadata": {
    "ExecuteTime": {
     "end_time": "2025-10-20T02:10:31.981709Z",
     "start_time": "2025-10-20T02:10:31.977183Z"
    }
   },
   "cell_type": "code",
   "source": [
    "from src.constants import AGE_GROUP_HEADER, AGE_HEADER, SURVIVED_HEADER\n",
    "\n",
    "# Dataset overview\n",
    "print(f\"Dataset contains {titanic_training_df.shape[0]} passengers with {titanic_training_df.shape[1]} features\\n\")\n",
    "\n",
    "# Check for missing values in analysis columns\n",
    "print(\"Data quality check for Sex and Survived:\")\n",
    "print(f\"  Sex - Missing: {titanic_training_df[AGE_HEADER].isna().sum()} ({titanic_training_df[AGE_HEADER].isna().sum()/len(titanic_training_df)*100:.1f}%)\")\n",
    "print(f\"  Survived - Missing: {titanic_training_df[SURVIVED_HEADER].isna().sum()} ({titanic_training_df[SURVIVED_HEADER].isna().sum()/len(titanic_training_df)*100:.1f}%)\")\n",
    "\n",
    "# Verify data types\n",
    "print(f\"\\nData types:\")\n",
    "print(f\"  Sex: {titanic_training_df[AGE_HEADER].dtype}\")\n",
    "print(f\"  Survived: {titanic_training_df[SURVIVED_HEADER].dtype}\")"
   ],
   "id": "195dfc7f3baa6f3b",
   "outputs": [
    {
     "name": "stdout",
     "output_type": "stream",
     "text": [
      "Dataset contains 891 passengers with 12 features\n",
      "\n",
      "Data quality check for Sex and Survived:\n",
      "  Sex - Missing: 177 (19.9%)\n",
      "  Survived - Missing: 0 (0.0%)\n",
      "\n",
      "Data types:\n",
      "  Sex: float64\n",
      "  Survived: int64\n"
     ]
    }
   ],
   "execution_count": 3
  },
  {
   "cell_type": "markdown",
   "id": "jrpwktmmiwl",
   "source": [
    "## 2. Age Group Analysis\n",
    "\n",
    "To better understand survival patterns across different age ranges, I'll create age groups in 10-year intervals and analyze survival rates within each group.\n",
    "\n",
    "### Data Transformation\n",
    "\n",
    "Using a custom utility function, I'll bin passengers into age groups and extract the relevant columns for analysis (Survived, Age, AgeGroup)."
   ],
   "metadata": {}
  },
  {
   "cell_type": "code",
   "id": "713088d6f4c7a4be",
   "metadata": {
    "ExecuteTime": {
     "end_time": "2025-10-20T02:10:32.020867Z",
     "start_time": "2025-10-20T02:10:32.012200Z"
    }
   },
   "source": [
    "from src.age_group_survival.age_group_utils import create_age_to_survival_df\n",
    "\n",
    "age_survival_df = create_age_to_survival_df(titanic_training_df)\n",
    "\n",
    "age_survival_df.head()"
   ],
   "outputs": [
    {
     "data": {
      "text/plain": [
       "   Survived   Age AgeGroup\n",
       "0         0  22.0    20-29\n",
       "1         1  38.0    30-39\n",
       "2         1  26.0    20-29\n",
       "3         1  35.0    30-39\n",
       "4         0  35.0    30-39"
      ],
      "text/html": [
       "<div>\n",
       "<style scoped>\n",
       "    .dataframe tbody tr th:only-of-type {\n",
       "        vertical-align: middle;\n",
       "    }\n",
       "\n",
       "    .dataframe tbody tr th {\n",
       "        vertical-align: top;\n",
       "    }\n",
       "\n",
       "    .dataframe thead th {\n",
       "        text-align: right;\n",
       "    }\n",
       "</style>\n",
       "<table border=\"1\" class=\"dataframe\">\n",
       "  <thead>\n",
       "    <tr style=\"text-align: right;\">\n",
       "      <th></th>\n",
       "      <th>Survived</th>\n",
       "      <th>Age</th>\n",
       "      <th>AgeGroup</th>\n",
       "    </tr>\n",
       "  </thead>\n",
       "  <tbody>\n",
       "    <tr>\n",
       "      <th>0</th>\n",
       "      <td>0</td>\n",
       "      <td>22.0</td>\n",
       "      <td>20-29</td>\n",
       "    </tr>\n",
       "    <tr>\n",
       "      <th>1</th>\n",
       "      <td>1</td>\n",
       "      <td>38.0</td>\n",
       "      <td>30-39</td>\n",
       "    </tr>\n",
       "    <tr>\n",
       "      <th>2</th>\n",
       "      <td>1</td>\n",
       "      <td>26.0</td>\n",
       "      <td>20-29</td>\n",
       "    </tr>\n",
       "    <tr>\n",
       "      <th>3</th>\n",
       "      <td>1</td>\n",
       "      <td>35.0</td>\n",
       "      <td>30-39</td>\n",
       "    </tr>\n",
       "    <tr>\n",
       "      <th>4</th>\n",
       "      <td>0</td>\n",
       "      <td>35.0</td>\n",
       "      <td>30-39</td>\n",
       "    </tr>\n",
       "  </tbody>\n",
       "</table>\n",
       "</div>"
      ]
     },
     "execution_count": 4,
     "metadata": {},
     "output_type": "execute_result"
    }
   ],
   "execution_count": 4
  },
  {
   "cell_type": "markdown",
   "id": "9sqgooy6rs",
   "source": "The transformed dataset now includes an `AgeGroup` column that categorizes passengers into 10-year age brackets (e.g., 20-29, 30-39).\n\n---\n\n## 3. Visualization: Survival Rates by Age Group\n\nNow let's visualize the survival rates across different age groups to identify patterns.",
   "metadata": {}
  },
  {
   "cell_type": "code",
   "id": "4cdc7633488f55d8",
   "metadata": {
    "ExecuteTime": {
     "end_time": "2025-10-20T02:10:32.219331Z",
     "start_time": "2025-10-20T02:10:32.124435Z"
    }
   },
   "source": [
    "survival_by_age_group = age_survival_df.groupby(AGE_GROUP_HEADER, observed=True)[SURVIVED_HEADER].mean()\n",
    "survival_by_age_chart = survival_by_age_group.plot(kind=\"bar\")\n",
    "\n",
    "survival_by_age_chart.set_ylabel(\"Survival Rate\")\n",
    "survival_by_age_chart.set_ybound(0, 1)\n",
    "\n",
    "survival_by_age_chart.set_title(\"Survival Rate By Age Group\")\n",
    "\n",
    "plt.show()"
   ],
   "outputs": [
    {
     "data": {
      "text/plain": [
       "<Figure size 640x480 with 1 Axes>"
      ],
      "image/png": "[encoded data removed]"
     },
     "metadata": {},
     "output_type": "display_data",
     "jetTransient": {
      "display_id": null
     }
    }
   ],
   "execution_count": 5
  },
  {
   "cell_type": "markdown",
   "id": "bekbng8yd5k",
   "source": "### Key Insight: Children Had Higher Survival Rates\n\nThe youngest age group (0-9 years) shows a notably higher survival rate compared to most adult age groups. This aligns with the \"women and children first\" evacuation protocol historically used in maritime disasters.\n\n---\n\n## 4. Alternative Visualizations\n\nLet's explore different ways to visualize the relationship between age groups and survival.",
   "metadata": {}
  },
  {
   "cell_type": "markdown",
   "id": "o55nu14f2",
   "source": "### Survival Count by Age Group\n\nThis stacked bar chart shows the absolute counts of survivors and non-survivors within each age group, providing insight into both survival rates and the distribution of passengers by age.",
   "metadata": {}
  },
  {
   "metadata": {
    "ExecuteTime": {
     "end_time": "2025-10-20T02:10:32.354282Z",
     "start_time": "2025-10-20T02:10:32.222863Z"
    }
   },
   "cell_type": "code",
   "source": "from matplotlib.container import BarContainer\n\nsurvival_rate_bar_chart = age_survival_df.groupby([AGE_GROUP_HEADER, SURVIVED_HEADER], observed=True).size().unstack().plot(kind='bar', stacked=True)\n\nsurvival_rate_bar_chart.set_xlabel(\"Age Group\")\nsurvival_rate_bar_chart.set_ylabel(\"Passenger Count\")\n\nsurvival_rate_bar_chart.set_title(\"Passenger Count by Age Group and Survival Status\")\n\n# Update legend labels for clarity\nsurvival_rate_bar_chart.legend([\"Died\", \"Survived\"], title=\"Survival Status\")\n\n# Add value labels to stacked bars\nfor container in survival_rate_bar_chart.containers:\n    if isinstance(container, BarContainer):\n        survival_rate_bar_chart.bar_label(container, label_type='center', fmt='%d')\n\nplt.show()",
   "id": "c671278f37792645",
   "outputs": [
    {
     "data": {
      "text/plain": [
       "<Figure size 640x480 with 1 Axes>"
      ],
      "image/png": "[encoded data removed]"
     },
     "metadata": {},
     "output_type": "display_data",
     "jetTransient": {
      "display_id": null
     }
    }
   ],
   "execution_count": 6
  },
  {
   "metadata": {},
   "cell_type": "markdown",
   "source": [
    "---\n",
    "\n",
    "## 5. Summary and Next Steps\n",
    "\n",
    "### Key Findings\n",
    "\n",
    "1. **Age is a significant factor in survival**: Younger passengers (0-9 years) had higher survival rates, consistent with the \"women and children first\" evacuation protocol used during the Titanic disaster.\n",
    "\n",
    "2. **Most passengers were in the 20-40 age range**: The 20-29 and 30-39 age groups had the highest passenger counts, but these age groups had lower survival rates compared to children.\n",
    "\n",
    "3. **Data quality consideration**: The Age column contains missing values (~20% of records) that need to be addressed before building predictive models. Imputation strategies or exclusion of missing values will be necessary.\n",
    "\n",
    "4. **Age groups show varying survival patterns**: Beyond the high survival rate for children, survival rates generally decline with age, though some middle-aged groups show moderate survival rates.\n",
    "\n",
    "## Technical Notes\n",
    "\n",
    "This analysis uses custom utility functions from `src/age_group_survival/age_group_utils.py` to maintain code modularity and reusability. All DataFrame column names are accessed through constants defined in `src/constants.py` to ensure consistency across the codebase."
   ],
   "id": "rnslr78o0wi"
  }
 ],
 "metadata": {
  "kernelspec": {
   "display_name": "Python 3",
   "language": "python",
   "name": "python3"
  },
  "language_info": {
   "codemirror_mode": {
    "name": "ipython",
    "version": 2
   },
   "file_extension": ".py",
   "mimetype": "text/x-python",
   "name": "python",
   "nbconvert_exporter": "python",
   "pygments_lexer": "ipython2",
   "version": "2.7.6"
  }
 },
 "nbformat": 4,
 "nbformat_minor": 5
}
